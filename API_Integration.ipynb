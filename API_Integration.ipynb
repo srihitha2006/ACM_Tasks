{
  "nbformat": 4,
  "nbformat_minor": 0,
  "metadata": {
    "colab": {
      "provenance": []
    },
    "kernelspec": {
      "name": "python3",
      "display_name": "Python 3"
    },
    "language_info": {
      "name": "python"
    }
  },
  "cells": [
    {
      "cell_type": "code",
      "execution_count": 2,
      "metadata": {
        "colab": {
          "base_uri": "https://localhost:8080/"
        },
        "id": "WjMKTVcBwVNj",
        "outputId": "62da6d44-c50e-47a7-8fd5-34cfa83e0f32"
      },
      "outputs": [
        {
          "output_type": "stream",
          "name": "stdout",
          "text": [
            "Which city's weather would you like to view?\n",
            "vijayawada\n",
            "Name:\n",
            "{\"coord\":{\"lon\":80.6167,\"lat\":16.5167},\"weather\":[{\"id\":802,\"main\":\"Clouds\",\"description\":\"scattered clouds\",\"icon\":\"03d\"}],\"base\":\"stations\",\"main\":{\"temp\":94.95,\"feels_like\":107.55,\"temp_min\":94.95,\"temp_max\":94.95,\"pressure\":1003,\"humidity\":55,\"sea_level\":1003,\"grnd_level\":999},\"visibility\":6000,\"wind\":{\"speed\":11.5,\"deg\":320},\"clouds\":{\"all\":40},\"dt\":1726818307,\"sys\":{\"type\":1,\"id\":9207,\"country\":\"IN\",\"sunrise\":1726791980,\"sunset\":1726835740},\"timezone\":19800,\"id\":1253184,\"name\":\"Vijayawada\",\"cod\":200}\n"
          ]
        }
      ],
      "source": [
        "import http.client\n",
        "\n",
        "conn = http.client.HTTPSConnection(\"open-weather13.p.rapidapi.com\")\n",
        "city = input(\"Which city's weather would you like to view?\\n\").strip()\n",
        "headers = {\n",
        "    'x-rapidapi-key': \"7812bef7f6msh9a548bd33e2217ep1451a1jsn7eb63b71e5d7\",\n",
        "    'x-rapidapi-host': \"open-weather13.p.rapidapi.com\"\n",
        "}\n",
        "\n",
        "conn.request(\"GET\", \"/city/\"+city+\"/EN\", headers=headers)\n",
        "\n",
        "res = conn.getresponse()\n",
        "data = res.read()\n",
        "\n",
        "print(\"Name:\",)\n",
        "print(data.decode('utf-8'))"
      ]
    },
    {
      "cell_type": "code",
      "source": [
        "\n"
      ],
      "metadata": {
        "id": "Uup0EavjXoWK"
      },
      "execution_count": null,
      "outputs": []
    },
    {
      "cell_type": "code",
      "source": [],
      "metadata": {
        "id": "SkppnX6I0Psq"
      },
      "execution_count": null,
      "outputs": []
    }
  ]
}