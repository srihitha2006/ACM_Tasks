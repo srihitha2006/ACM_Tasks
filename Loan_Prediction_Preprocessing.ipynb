{
 "cells": [
  {
   "cell_type": "markdown",
   "metadata": {
    "id": "rFQHW1v7wCvf"
   },
   "source": []
  },
  {
   "cell_type": "markdown",
   "metadata": {
    "id": "fjklyp-nCOCZ"
   },
   "source": [
    "# DOWNLOADING THE DATASET FROM KAGGLE"
   ]
  },
  {
   "cell_type": "code",
   "execution_count": 2,
   "metadata": {
    "colab": {
     "base_uri": "https://localhost:8080/",
     "height": 73
    },
    "id": "mP9XtoJouz_4",
    "outputId": "5806ec5e-e2ec-44e1-8f4b-79bb3d5ceb0e"
   },
   "outputs": [
    {
     "data": {
      "text/html": [
       "\n",
       "     <input type=\"file\" id=\"files-df8912ce-0d43-476b-82c4-84a3e0fc3aff\" name=\"files[]\" multiple disabled\n",
       "        style=\"border:none\" />\n",
       "     <output id=\"result-df8912ce-0d43-476b-82c4-84a3e0fc3aff\">\n",
       "      Upload widget is only available when the cell has been executed in the\n",
       "      current browser session. Please rerun this cell to enable.\n",
       "      </output>\n",
       "      <script>// Copyright 2017 Google LLC\n",
       "//\n",
       "// Licensed under the Apache License, Version 2.0 (the \"License\");\n",
       "// you may not use this file except in compliance with the License.\n",
       "// You may obtain a copy of the License at\n",
       "//\n",
       "//      http://www.apache.org/licenses/LICENSE-2.0\n",
       "//\n",
       "// Unless required by applicable law or agreed to in writing, software\n",
       "// distributed under the License is distributed on an \"AS IS\" BASIS,\n",
       "// WITHOUT WARRANTIES OR CONDITIONS OF ANY KIND, either express or implied.\n",
       "// See the License for the specific language governing permissions and\n",
       "// limitations under the License.\n",
       "\n",
       "/**\n",
       " * @fileoverview Helpers for google.colab Python module.\n",
       " */\n",
       "(function(scope) {\n",
       "function span(text, styleAttributes = {}) {\n",
       "  const element = document.createElement('span');\n",
       "  element.textContent = text;\n",
       "  for (const key of Object.keys(styleAttributes)) {\n",
       "    element.style[key] = styleAttributes[key];\n",
       "  }\n",
       "  return element;\n",
       "}\n",
       "\n",
       "// Max number of bytes which will be uploaded at a time.\n",
       "const MAX_PAYLOAD_SIZE = 100 * 1024;\n",
       "\n",
       "function _uploadFiles(inputId, outputId) {\n",
       "  const steps = uploadFilesStep(inputId, outputId);\n",
       "  const outputElement = document.getElementById(outputId);\n",
       "  // Cache steps on the outputElement to make it available for the next call\n",
       "  // to uploadFilesContinue from Python.\n",
       "  outputElement.steps = steps;\n",
       "\n",
       "  return _uploadFilesContinue(outputId);\n",
       "}\n",
       "\n",
       "// This is roughly an async generator (not supported in the browser yet),\n",
       "// where there are multiple asynchronous steps and the Python side is going\n",
       "// to poll for completion of each step.\n",
       "// This uses a Promise to block the python side on completion of each step,\n",
       "// then passes the result of the previous step as the input to the next step.\n",
       "function _uploadFilesContinue(outputId) {\n",
       "  const outputElement = document.getElementById(outputId);\n",
       "  const steps = outputElement.steps;\n",
       "\n",
       "  const next = steps.next(outputElement.lastPromiseValue);\n",
       "  return Promise.resolve(next.value.promise).then((value) => {\n",
       "    // Cache the last promise value to make it available to the next\n",
       "    // step of the generator.\n",
       "    outputElement.lastPromiseValue = value;\n",
       "    return next.value.response;\n",
       "  });\n",
       "}\n",
       "\n",
       "/**\n",
       " * Generator function which is called between each async step of the upload\n",
       " * process.\n",
       " * @param {string} inputId Element ID of the input file picker element.\n",
       " * @param {string} outputId Element ID of the output display.\n",
       " * @return {!Iterable<!Object>} Iterable of next steps.\n",
       " */\n",
       "function* uploadFilesStep(inputId, outputId) {\n",
       "  const inputElement = document.getElementById(inputId);\n",
       "  inputElement.disabled = false;\n",
       "\n",
       "  const outputElement = document.getElementById(outputId);\n",
       "  outputElement.innerHTML = '';\n",
       "\n",
       "  const pickedPromise = new Promise((resolve) => {\n",
       "    inputElement.addEventListener('change', (e) => {\n",
       "      resolve(e.target.files);\n",
       "    });\n",
       "  });\n",
       "\n",
       "  const cancel = document.createElement('button');\n",
       "  inputElement.parentElement.appendChild(cancel);\n",
       "  cancel.textContent = 'Cancel upload';\n",
       "  const cancelPromise = new Promise((resolve) => {\n",
       "    cancel.onclick = () => {\n",
       "      resolve(null);\n",
       "    };\n",
       "  });\n",
       "\n",
       "  // Wait for the user to pick the files.\n",
       "  const files = yield {\n",
       "    promise: Promise.race([pickedPromise, cancelPromise]),\n",
       "    response: {\n",
       "      action: 'starting',\n",
       "    }\n",
       "  };\n",
       "\n",
       "  cancel.remove();\n",
       "\n",
       "  // Disable the input element since further picks are not allowed.\n",
       "  inputElement.disabled = true;\n",
       "\n",
       "  if (!files) {\n",
       "    return {\n",
       "      response: {\n",
       "        action: 'complete',\n",
       "      }\n",
       "    };\n",
       "  }\n",
       "\n",
       "  for (const file of files) {\n",
       "    const li = document.createElement('li');\n",
       "    li.append(span(file.name, {fontWeight: 'bold'}));\n",
       "    li.append(span(\n",
       "        `(${file.type || 'n/a'}) - ${file.size} bytes, ` +\n",
       "        `last modified: ${\n",
       "            file.lastModifiedDate ? file.lastModifiedDate.toLocaleDateString() :\n",
       "                                    'n/a'} - `));\n",
       "    const percent = span('0% done');\n",
       "    li.appendChild(percent);\n",
       "\n",
       "    outputElement.appendChild(li);\n",
       "\n",
       "    const fileDataPromise = new Promise((resolve) => {\n",
       "      const reader = new FileReader();\n",
       "      reader.onload = (e) => {\n",
       "        resolve(e.target.result);\n",
       "      };\n",
       "      reader.readAsArrayBuffer(file);\n",
       "    });\n",
       "    // Wait for the data to be ready.\n",
       "    let fileData = yield {\n",
       "      promise: fileDataPromise,\n",
       "      response: {\n",
       "        action: 'continue',\n",
       "      }\n",
       "    };\n",
       "\n",
       "    // Use a chunked sending to avoid message size limits. See b/62115660.\n",
       "    let position = 0;\n",
       "    do {\n",
       "      const length = Math.min(fileData.byteLength - position, MAX_PAYLOAD_SIZE);\n",
       "      const chunk = new Uint8Array(fileData, position, length);\n",
       "      position += length;\n",
       "\n",
       "      const base64 = btoa(String.fromCharCode.apply(null, chunk));\n",
       "      yield {\n",
       "        response: {\n",
       "          action: 'append',\n",
       "          file: file.name,\n",
       "          data: base64,\n",
       "        },\n",
       "      };\n",
       "\n",
       "      let percentDone = fileData.byteLength === 0 ?\n",
       "          100 :\n",
       "          Math.round((position / fileData.byteLength) * 100);\n",
       "      percent.textContent = `${percentDone}% done`;\n",
       "\n",
       "    } while (position < fileData.byteLength);\n",
       "  }\n",
       "\n",
       "  // All done.\n",
       "  yield {\n",
       "    response: {\n",
       "      action: 'complete',\n",
       "    }\n",
       "  };\n",
       "}\n",
       "\n",
       "scope.google = scope.google || {};\n",
       "scope.google.colab = scope.google.colab || {};\n",
       "scope.google.colab._files = {\n",
       "  _uploadFiles,\n",
       "  _uploadFilesContinue,\n",
       "};\n",
       "})(self);\n",
       "</script> "
      ],
      "text/plain": [
       "<IPython.core.display.HTML object>"
      ]
     },
     "metadata": {},
     "output_type": "display_data"
    },
    {
     "name": "stdout",
     "output_type": "stream",
     "text": [
      "Saving train_u6lujuX_CVtuZ9i.csv to train_u6lujuX_CVtuZ9i.csv\n"
     ]
    }
   ],
   "source": [
    "from google.colab import files\n",
    "uploaded = files.upload()\n"
   ]
  },
  {
   "cell_type": "markdown",
   "metadata": {
    "id": "ulT6UEuhB2d_"
   },
   "source": [
    "## LOADING THE DATA"
   ]
  },
  {
   "cell_type": "code",
   "execution_count": 3,
   "metadata": {
    "colab": {
     "base_uri": "https://localhost:8080/"
    },
    "id": "DVHuLu6jwfHJ",
    "outputId": "9835b7ad-cd5c-4358-e73b-d72d4799c9e5"
   },
   "outputs": [
    {
     "name": "stdout",
     "output_type": "stream",
     "text": [
      "    Loan_ID Gender Married Dependents     Education Self_Employed  \\\n",
      "0  LP001002   Male      No          0      Graduate            No   \n",
      "1  LP001003   Male     Yes          1      Graduate            No   \n",
      "2  LP001005   Male     Yes          0      Graduate           Yes   \n",
      "3  LP001006   Male     Yes          0  Not Graduate            No   \n",
      "4  LP001008   Male      No          0      Graduate            No   \n",
      "\n",
      "   ApplicantIncome  CoapplicantIncome  LoanAmount  Loan_Amount_Term  \\\n",
      "0             5849                0.0         NaN             360.0   \n",
      "1             4583             1508.0       128.0             360.0   \n",
      "2             3000                0.0        66.0             360.0   \n",
      "3             2583             2358.0       120.0             360.0   \n",
      "4             6000                0.0       141.0             360.0   \n",
      "\n",
      "   Credit_History Property_Area Loan_Status  \n",
      "0             1.0         Urban           Y  \n",
      "1             1.0         Rural           N  \n",
      "2             1.0         Urban           Y  \n",
      "3             1.0         Urban           Y  \n",
      "4             1.0         Urban           Y  \n"
     ]
    }
   ],
   "source": [
    "import pandas as pd\n",
    "df = pd.read_csv('train_u6lujuX_CVtuZ9i.csv')\n",
    "print(df.head())\n"
   ]
  },
  {
   "cell_type": "markdown",
   "metadata": {
    "id": "vcpoOM9dBtYJ"
   },
   "source": [
    "# INSPECTING THE DATA"
   ]
  },
  {
   "cell_type": "code",
   "execution_count": 6,
   "metadata": {
    "colab": {
     "base_uri": "https://localhost:8080/"
    },
    "id": "kHAVoes61tRo",
    "outputId": "3e7026b5-66c7-48ec-89f0-f8301f1a0ad7"
   },
   "outputs": [
    {
     "name": "stdout",
     "output_type": "stream",
     "text": [
      "    Loan_ID Gender Married Dependents     Education Self_Employed  \\\n",
      "0  LP001002   Male      No          0      Graduate            No   \n",
      "1  LP001003   Male     Yes          1      Graduate            No   \n",
      "2  LP001005   Male     Yes          0      Graduate           Yes   \n",
      "3  LP001006   Male     Yes          0  Not Graduate            No   \n",
      "4  LP001008   Male      No          0      Graduate            No   \n",
      "\n",
      "   ApplicantIncome  CoapplicantIncome  LoanAmount  Loan_Amount_Term  \\\n",
      "0             5849                0.0         NaN             360.0   \n",
      "1             4583             1508.0       128.0             360.0   \n",
      "2             3000                0.0        66.0             360.0   \n",
      "3             2583             2358.0       120.0             360.0   \n",
      "4             6000                0.0       141.0             360.0   \n",
      "\n",
      "   Credit_History Property_Area Loan_Status  \n",
      "0             1.0         Urban           Y  \n",
      "1             1.0         Rural           N  \n",
      "2             1.0         Urban           Y  \n",
      "3             1.0         Urban           Y  \n",
      "4             1.0         Urban           Y  \n",
      "      Loan_ID  Gender Married Dependents Education Self_Employed  \\\n",
      "609  LP002978  Female      No          0  Graduate            No   \n",
      "610  LP002979    Male     Yes         3+  Graduate            No   \n",
      "611  LP002983    Male     Yes          1  Graduate            No   \n",
      "612  LP002984    Male     Yes          2  Graduate            No   \n",
      "613  LP002990  Female      No          0  Graduate           Yes   \n",
      "\n",
      "     ApplicantIncome  CoapplicantIncome  LoanAmount  Loan_Amount_Term  \\\n",
      "609             2900                0.0        71.0             360.0   \n",
      "610             4106                0.0        40.0             180.0   \n",
      "611             8072              240.0       253.0             360.0   \n",
      "612             7583                0.0       187.0             360.0   \n",
      "613             4583                0.0       133.0             360.0   \n",
      "\n",
      "     Credit_History Property_Area Loan_Status  \n",
      "609             1.0         Rural           Y  \n",
      "610             1.0         Rural           Y  \n",
      "611             1.0         Urban           Y  \n",
      "612             1.0         Urban           Y  \n",
      "613             0.0     Semiurban           N  \n"
     ]
    }
   ],
   "source": [
    "print(df.head())\n",
    "print(df.tail())"
   ]
  },
  {
   "cell_type": "markdown",
   "metadata": {
    "id": "KLRhsWjG40HJ"
   },
   "source": [
    "# HANDLING MISSING VALUES"
   ]
  },
  {
   "cell_type": "code",
   "execution_count": 8,
   "metadata": {
    "colab": {
     "base_uri": "https://localhost:8080/"
    },
    "id": "Oashq-zJ2C_k",
    "outputId": "7bc97319-74df-4420-d579-ddbc5678ec08"
   },
   "outputs": [
    {
     "name": "stdout",
     "output_type": "stream",
     "text": [
      "Columns with missing values: ['Gender', 'Married', 'Dependents', 'Self_Employed', 'LoanAmount', 'Loan_Amount_Term', 'Credit_History']\n",
      "Number of missing values in each column:\n",
      " Gender              13\n",
      "Married              3\n",
      "Dependents          15\n",
      "Self_Employed       32\n",
      "LoanAmount          22\n",
      "Loan_Amount_Term    14\n",
      "Credit_History      50\n",
      "dtype: int64\n"
     ]
    }
   ],
   "source": [
    "missing_values = df.isnull().sum()\n",
    "columns_with_missing = missing_values[missing_values>0].index.tolist()\n",
    "print(\"Columns with missing values:\", columns_with_missing)\n",
    "print(\"Number of missing values in each column:\\n\", missing_values[missing_values > 0])"
   ]
  },
  {
   "cell_type": "markdown",
   "metadata": {
    "id": "Luzn1zpBBgkA"
   },
   "source": [
    "# FINDING NON NUMERICAL VALUES"
   ]
  },
  {
   "cell_type": "code",
   "execution_count": 9,
   "metadata": {
    "colab": {
     "base_uri": "https://localhost:8080/"
    },
    "id": "LNvn5Tjh9Zf1",
    "outputId": "8722add3-1580-4ddc-c01f-1d554f4ef4d8"
   },
   "outputs": [
    {
     "name": "stdout",
     "output_type": "stream",
     "text": [
      "Non-numerical columns: ['Loan_ID', 'Gender', 'Married', 'Dependents', 'Education', 'Self_Employed', 'Property_Area', 'Loan_Status']\n"
     ]
    }
   ],
   "source": [
    "non_numerical_cols = df.select_dtypes(exclude=['number']).columns.tolist()\n",
    "print(\"Non-numerical columns:\", non_numerical_cols)"
   ]
  },
  {
   "cell_type": "markdown",
   "metadata": {
    "id": "3sk79Xq3BSNZ"
   },
   "source": [
    "# FILTERING"
   ]
  },
  {
   "cell_type": "code",
   "execution_count": 10,
   "metadata": {
    "colab": {
     "base_uri": "https://localhost:8080/"
    },
    "id": "t1CqGZMo92Xj",
    "outputId": "f442325f-9831-47d6-9d5d-3d0d2e1b6422"
   },
   "outputs": [
    {
     "name": "stdout",
     "output_type": "stream",
     "text": [
      "Loan IDs of non-graduates:\n",
      " 3      LP001006\n",
      "6      LP001013\n",
      "16     LP001034\n",
      "18     LP001038\n",
      "20     LP001043\n",
      "         ...   \n",
      "595    LP002940\n",
      "596    LP002941\n",
      "601    LP002950\n",
      "605    LP002960\n",
      "607    LP002964\n",
      "Name: Loan_ID, Length: 134, dtype: object\n"
     ]
    }
   ],
   "source": [
    "non_graduates = df[df['Education'] != 'Graduate']['Loan_ID']\n",
    "print(\"Loan IDs of non-graduates:\\n\", non_graduates)"
   ]
  },
  {
   "cell_type": "code",
   "execution_count": 11,
   "metadata": {
    "colab": {
     "base_uri": "https://localhost:8080/"
    },
    "id": "14MEawke-X0E",
    "outputId": "fadf4445-bea0-4965-d24c-e28d76bf9b4f"
   },
   "outputs": [
    {
     "name": "stdout",
     "output_type": "stream",
     "text": [
      "Loan IDs of people with income < 5000:\n",
      " 1      LP001003\n",
      "2      LP001005\n",
      "3      LP001006\n",
      "6      LP001013\n",
      "7      LP001014\n",
      "         ...   \n",
      "607    LP002964\n",
      "608    LP002974\n",
      "609    LP002978\n",
      "610    LP002979\n",
      "613    LP002990\n",
      "Name: Loan_ID, Length: 418, dtype: object\n"
     ]
    }
   ],
   "source": [
    "low_income = df[df['ApplicantIncome'] < 5000]['Loan_ID']\n",
    "print(\"Loan IDs of people with income < 5000:\\n\", low_income)"
   ]
  },
  {
   "cell_type": "code",
   "execution_count": 12,
   "metadata": {
    "colab": {
     "base_uri": "https://localhost:8080/"
    },
    "id": "bEQAxUrqAGck",
    "outputId": "79d6a1ba-ff77-42de-b02f-b320c9f9166d"
   },
   "outputs": [
    {
     "name": "stdout",
     "output_type": "stream",
     "text": [
      "Loan IDs of unmarried people with '3+' dependents:\n",
      " 34     LP001100\n",
      "255    LP001846\n",
      "338    LP002113\n",
      "390    LP002255\n",
      "442    LP002418\n",
      "592    LP002933\n",
      "600    LP002949\n",
      "Name: Loan_ID, dtype: object\n"
     ]
    }
   ],
   "source": [
    "unmarried_dependents = df[(df['Married'] == 'No') & (df['Dependents'] == '3+')]['Loan_ID']\n",
    "print(\"Loan IDs of unmarried people with '3+' dependents:\\n\", unmarried_dependents)"
   ]
  },
  {
   "cell_type": "code",
   "execution_count": 13,
   "metadata": {
    "colab": {
     "base_uri": "https://localhost:8080/"
    },
    "id": "V8CiJhZyAY8a",
    "outputId": "1a661b12-6168-4170-87f1-2f8966fd195b"
   },
   "outputs": [
    {
     "name": "stdout",
     "output_type": "stream",
     "text": [
      "Rows with '3+' dependents:\n",
      "       Loan_ID  Gender Married Dependents     Education Self_Employed  \\\n",
      "7    LP001014    Male     Yes         3+      Graduate            No   \n",
      "34   LP001100    Male      No         3+      Graduate            No   \n",
      "61   LP001206    Male     Yes         3+      Graduate            No   \n",
      "68   LP001238    Male     Yes         3+  Not Graduate           Yes   \n",
      "73   LP001250    Male     Yes         3+  Not Graduate            No   \n",
      "74   LP001253    Male     Yes         3+      Graduate           Yes   \n",
      "78   LP001263    Male     Yes         3+      Graduate            No   \n",
      "79   LP001264    Male     Yes         3+  Not Graduate           Yes   \n",
      "109  LP001384    Male     Yes         3+  Not Graduate            No   \n",
      "126  LP001448     NaN     Yes         3+      Graduate            No   \n",
      "135  LP001488    Male     Yes         3+      Graduate            No   \n",
      "155  LP001536    Male     Yes         3+      Graduate            No   \n",
      "171  LP001585     NaN     Yes         3+      Graduate            No   \n",
      "172  LP001586    Male     Yes         3+  Not Graduate            No   \n",
      "177  LP001610    Male     Yes         3+      Graduate            No   \n",
      "202  LP001682    Male     Yes         3+  Not Graduate            No   \n",
      "211  LP001711    Male     Yes         3+      Graduate            No   \n",
      "213  LP001715    Male     Yes         3+  Not Graduate           Yes   \n",
      "215  LP001720    Male     Yes         3+  Not Graduate            No   \n",
      "255  LP001846  Female      No         3+      Graduate            No   \n",
      "257  LP001854    Male     Yes         3+      Graduate            No   \n",
      "259  LP001864    Male     Yes         3+  Not Graduate            No   \n",
      "267  LP001882    Male     Yes         3+      Graduate            No   \n",
      "295  LP001949    Male     Yes         3+      Graduate           NaN   \n",
      "321  LP002053    Male     Yes         3+      Graduate            No   \n",
      "324  LP002065    Male     Yes         3+      Graduate            No   \n",
      "338  LP002113  Female      No         3+  Not Graduate            No   \n",
      "340  LP002115    Male     Yes         3+  Not Graduate            No   \n",
      "343  LP002126    Male     Yes         3+  Not Graduate            No   \n",
      "352  LP002141    Male     Yes         3+      Graduate            No   \n",
      "359  LP002160    Male     Yes         3+      Graduate            No   \n",
      "376  LP002219    Male     Yes         3+      Graduate            No   \n",
      "390  LP002255    Male      No         3+      Graduate            No   \n",
      "391  LP002262    Male     Yes         3+      Graduate            No   \n",
      "409  LP002317    Male     Yes         3+      Graduate            No   \n",
      "442  LP002418    Male      No         3+  Not Graduate            No   \n",
      "461  LP002484    Male     Yes         3+      Graduate            No   \n",
      "466  LP002500    Male     Yes         3+  Not Graduate            No   \n",
      "472  LP002519    Male     Yes         3+      Graduate            No   \n",
      "481  LP002536    Male     Yes         3+  Not Graduate            No   \n",
      "515  LP002659    Male     Yes         3+      Graduate            No   \n",
      "522  LP002692    Male     Yes         3+      Graduate           Yes   \n",
      "531  LP002720    Male     Yes         3+      Graduate            No   \n",
      "539  LP002740    Male     Yes         3+      Graduate            No   \n",
      "557  LP002795    Male     Yes         3+      Graduate           Yes   \n",
      "567  LP002837    Male     Yes         3+      Graduate            No   \n",
      "574  LP002863    Male     Yes         3+      Graduate            No   \n",
      "592  LP002933     NaN      No         3+      Graduate           Yes   \n",
      "600  LP002949  Female      No         3+      Graduate           NaN   \n",
      "602  LP002953    Male     Yes         3+      Graduate            No   \n",
      "610  LP002979    Male     Yes         3+      Graduate            No   \n",
      "\n",
      "     ApplicantIncome  CoapplicantIncome  LoanAmount  Loan_Amount_Term  \\\n",
      "7               3036             2504.0       158.0             360.0   \n",
      "34             12500             3000.0       320.0             360.0   \n",
      "61              3029                0.0        99.0             360.0   \n",
      "68              7100                0.0       125.0              60.0   \n",
      "73              4755                0.0        95.0               NaN   \n",
      "74              5266             1774.0       187.0             360.0   \n",
      "78              3167             4000.0       180.0             300.0   \n",
      "79              3333             2166.0       130.0             360.0   \n",
      "109             2071              754.0        94.0             480.0   \n",
      "126            23803                0.0       370.0             360.0   \n",
      "135             4000             7750.0       290.0             360.0   \n",
      "155            39999                0.0       600.0             180.0   \n",
      "171            51763                0.0       700.0             300.0   \n",
      "172             3522                0.0        81.0             180.0   \n",
      "177             5516            11300.0       495.0             360.0   \n",
      "202             3992                0.0         NaN             180.0   \n",
      "211             3430             1250.0       128.0             360.0   \n",
      "213             5703                0.0       130.0             360.0   \n",
      "215             3850              983.0       100.0             360.0   \n",
      "255             3083                0.0       255.0             360.0   \n",
      "257             5250                0.0        94.0             360.0   \n",
      "259             4931                0.0       128.0             360.0   \n",
      "267             4333             1811.0       160.0             360.0   \n",
      "295             4416             1250.0       110.0             360.0   \n",
      "321             4342              189.0       124.0             360.0   \n",
      "324            15000                0.0       300.0             360.0   \n",
      "338             1830                0.0         NaN             360.0   \n",
      "340             2647             1587.0       173.0             360.0   \n",
      "343             3173                0.0        74.0             360.0   \n",
      "352             2666             2083.0        95.0             360.0   \n",
      "359             5167             3167.0       200.0             360.0   \n",
      "376             8750             4996.0       130.0             360.0   \n",
      "390             9167                0.0       185.0             360.0   \n",
      "391             9504                0.0       275.0             360.0   \n",
      "409            81000                0.0       360.0             360.0   \n",
      "442             4707             1993.0       148.0             360.0   \n",
      "461             7740                0.0       128.0             180.0   \n",
      "466             2947             1664.0        70.0             180.0   \n",
      "472             4691                0.0       100.0             360.0   \n",
      "481             3095                0.0       113.0             360.0   \n",
      "515             3466             3428.0       150.0             360.0   \n",
      "522             5677             1424.0       100.0             360.0   \n",
      "531             4281                0.0       100.0             360.0   \n",
      "539             6417                0.0       157.0             180.0   \n",
      "557            10139                0.0       260.0             360.0   \n",
      "567             3400             2500.0       123.0             360.0   \n",
      "574             6406                0.0       150.0             360.0   \n",
      "592             9357                0.0       292.0             360.0   \n",
      "600              416            41667.0       350.0             180.0   \n",
      "602             5703                0.0       128.0             360.0   \n",
      "610             4106                0.0        40.0             180.0   \n",
      "\n",
      "     Credit_History Property_Area Loan_Status  \n",
      "7               0.0     Semiurban           N  \n",
      "34              1.0         Rural           N  \n",
      "61              1.0         Urban           Y  \n",
      "68              1.0         Urban           Y  \n",
      "73              0.0     Semiurban           N  \n",
      "74              1.0     Semiurban           Y  \n",
      "78              0.0     Semiurban           N  \n",
      "79              NaN     Semiurban           Y  \n",
      "109             1.0     Semiurban           Y  \n",
      "126             1.0         Rural           Y  \n",
      "135             1.0     Semiurban           N  \n",
      "155             0.0     Semiurban           Y  \n",
      "171             1.0         Urban           Y  \n",
      "172             1.0         Rural           N  \n",
      "177             0.0     Semiurban           N  \n",
      "202             1.0         Urban           N  \n",
      "211             0.0     Semiurban           N  \n",
      "213             1.0         Rural           Y  \n",
      "215             1.0     Semiurban           Y  \n",
      "255             1.0         Rural           Y  \n",
      "257             1.0         Urban           N  \n",
      "259             NaN     Semiurban           N  \n",
      "267             0.0         Urban           Y  \n",
      "295             1.0         Urban           Y  \n",
      "321             1.0     Semiurban           Y  \n",
      "324             1.0         Rural           Y  \n",
      "338             0.0         Urban           N  \n",
      "340             1.0         Rural           N  \n",
      "343             1.0     Semiurban           Y  \n",
      "352             1.0         Rural           Y  \n",
      "359             1.0     Semiurban           Y  \n",
      "376             1.0         Rural           Y  \n",
      "390             1.0         Rural           Y  \n",
      "391             1.0         Rural           Y  \n",
      "409             0.0         Rural           N  \n",
      "442             1.0     Semiurban           Y  \n",
      "461             1.0         Urban           Y  \n",
      "466             0.0         Urban           N  \n",
      "472             1.0     Semiurban           Y  \n",
      "481             1.0         Rural           Y  \n",
      "515             1.0         Rural           Y  \n",
      "522             1.0         Rural           Y  \n",
      "531             1.0         Urban           Y  \n",
      "539             1.0         Rural           Y  \n",
      "557             1.0     Semiurban           Y  \n",
      "567             0.0         Rural           N  \n",
      "574             1.0     Semiurban           N  \n",
      "592             1.0     Semiurban           Y  \n",
      "600             NaN         Urban           N  \n",
      "602             1.0         Urban           Y  \n",
      "610             1.0         Rural           Y  \n"
     ]
    }
   ],
   "source": [
    "rows_dependents_3_plus = df[df['Dependents'] == '3+']\n",
    "print(\"Rows with '3+' dependents:\\n\", rows_dependents_3_plus)"
   ]
  },
  {
   "cell_type": "code",
   "execution_count": 15,
   "metadata": {
    "id": "AKz0_SA_AjCK"
   },
   "outputs": [],
   "source": [
    "df_cleaned = df.dropna()"
   ]
  },
  {
   "cell_type": "markdown",
   "metadata": {
    "id": "ktCY6pj5A9b8"
   },
   "source": [
    "# DROP UNWANTED COLUMNS"
   ]
  },
  {
   "cell_type": "code",
   "execution_count": 16,
   "metadata": {
    "id": "Wb_TG0L0A2mF"
   },
   "outputs": [],
   "source": [
    "df_cleaned = df_cleaned.drop(columns=['Loan_ID'])"
   ]
  }
 ],
 "metadata": {
  "colab": {
   "provenance": []
  },
  "kernelspec": {
   "display_name": "Python 3 (ipykernel)",
   "language": "python",
   "name": "python3"
  },
  "language_info": {
   "codemirror_mode": {
    "name": "ipython",
    "version": 3
   },
   "file_extension": ".py",
   "mimetype": "text/x-python",
   "name": "python",
   "nbconvert_exporter": "python",
   "pygments_lexer": "ipython3",
   "version": "3.12.4"
  }
 },
 "nbformat": 4,
 "nbformat_minor": 4
}
