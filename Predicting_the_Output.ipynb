{
  "nbformat": 4,
  "nbformat_minor": 0,
  "metadata": {
    "colab": {
      "provenance": []
    },
    "kernelspec": {
      "name": "python3",
      "display_name": "Python 3"
    },
    "language_info": {
      "name": "python"
    }
  },
  "cells": [
    {
      "cell_type": "code",
      "execution_count": 1,
      "metadata": {
        "id": "ZxjjDA-ymmcy"
      },
      "outputs": [],
      "source": [
        "import numpy as np\n",
        "\n",
        "# Define the dataset as a NumPy array\n",
        "data = np.array([\n",
        "    [0.0, 0.0, 0.0],\n",
        "    [0.5, 1.5, 23.4],\n",
        "    [1.2, 2.3, 45.6],\n",
        "    [1.8, 3.7, 12.1],\n",
        "    [2.4, 4.2, 78.9],\n",
        "    [2.9, 5.1, 34.5],\n",
        "    [3.5, 6.4, 56.7],\n",
        "    [4.1, 7.8, 67.8],\n",
        "    [4.7, 8.5, 89.0],\n",
        "    [5.2, 9.1, 12.3],\n",
        "    [5.8, 1.0, 45.6],\n",
        "    [6.3, 2.4, 78.9],\n",
        "    [6.9, 3.1, 34.5],\n",
        "    [7.4, 4.6, 56.7],\n",
        "    [8.0, 5.2, 67.8],\n",
        "    [8.6, 6.8, 89.0],\n",
        "    [9.1, 7.3, 12.3],\n",
        "    [9.7, 8.9, 45.6],\n",
        "    [10.0, 9.0, 78.9],\n",
        "    [10.5, 0.5, 34.5]\n",
        "])\n",
        "\n",
        "# Separate the inputs (a and b) and the output (value)\n",
        "X = data[:, :2]  # Inputs a and b\n",
        "y = data[:, 2]   # Output value\n"
      ]
    },
    {
      "cell_type": "markdown",
      "source": [
        "# **Linear** **Regression**"
      ],
      "metadata": {
        "id": "OCddny5nnsmK"
      }
    },
    {
      "cell_type": "code",
      "source": [
        "# Import linear regression model\n",
        "from sklearn.linear_model import LinearRegression\n",
        "\n",
        "# Fit the model\n",
        "model = LinearRegression()\n",
        "model.fit(X, y)\n",
        "\n",
        "# Function to predict the value based on input a and b\n",
        "def predict_value(a, b):\n",
        "    return model.predict([[a, b]])[0]\n",
        "\n",
        "# Test the function with an example\n",
        "predicted_value = predict_value(1.2, 2.3)\n",
        "print(f\"Predicted value for (a=1.2, b=2.3): {predicted_value}\")\n"
      ],
      "metadata": {
        "colab": {
          "base_uri": "https://localhost:8080/"
        },
        "id": "BUd4PAd-mrvQ",
        "outputId": "890a912a-0151-47fb-f712-98eea7ecb373"
      },
      "execution_count": 2,
      "outputs": [
        {
          "output_type": "stream",
          "name": "stdout",
          "text": [
            "Predicted value for (a=1.2, b=2.3): 34.701583929966986\n"
          ]
        }
      ]
    }
  ]
}